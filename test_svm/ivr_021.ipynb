{
 "cells": [
  {
   "cell_type": "code",
   "execution_count": 27,
   "metadata": {},
   "outputs": [],
   "source": [
    "import os\n",
    "import cv2\n",
    "import matplotlib\n",
    "import numpy as np\n",
    "import matplotlib.pyplot as plt\n",
    "from ObjectDetection import ObjectDetection"
   ]
  },
  {
   "cell_type": "code",
   "execution_count": 28,
   "metadata": {},
   "outputs": [],
   "source": [
    "def printImgCol(img):\n",
    "    plt.imshow(cv2.cvtColor(img, cv2.COLOR_BGR2RGB))\n",
    "    plt.axis(\"off\")\n",
    "    plt.show()\n",
    "    \n",
    "def printImgGray(img):\n",
    "    plt.imshow(img, cmap='gray')\n",
    "    plt.axis(\"off\")\n",
    "    plt.show()"
   ]
  },
  {
   "cell_type": "code",
   "execution_count": 29,
   "metadata": {},
   "outputs": [],
   "source": [
    "input_path = os.path.join(os.getcwd(), 'images_ros')\n",
    "img = cv2.imread(input_path + '/image_1_4.png',1)"
   ]
  },
  {
   "cell_type": "code",
   "execution_count": 49,
   "metadata": {},
   "outputs": [
    {
     "data": {
      "image/png": "[encoded data removed]",
      "text/plain": [
       "<Figure size 432x288 with 1 Axes>"
      ]
     },
     "metadata": {
      "needs_background": "light"
     },
     "output_type": "display_data"
    },
    {
     "name": "stdout",
     "output_type": "stream",
     "text": [
      "(800, 800, 3)\n"
     ]
    }
   ],
   "source": [
    "printImgCol(img)\n",
    "print(img.shape)"
   ]
  },
  {
   "cell_type": "code",
   "execution_count": 50,
   "metadata": {},
   "outputs": [],
   "source": [
    "od = ObjectDetection()"
   ]
  },
  {
   "cell_type": "code",
   "execution_count": 51,
   "metadata": {},
   "outputs": [
    {
     "data": {
      "image/png": "[encoded data removed]",
      "text/plain": [
       "<Figure size 432x288 with 1 Axes>"
      ]
     },
     "metadata": {
      "needs_background": "light"
     },
     "output_type": "display_data"
    }
   ],
   "source": [
    "img2 = od.filter_orange(img)\n",
    "printImgGray(img2)"
   ]
  },
  {
   "cell_type": "code",
   "execution_count": 52,
   "metadata": {},
   "outputs": [
    {
     "data": {
      "image/png": "[encoded data removed]",
      "text/plain": [
       "<Figure size 432x288 with 1 Axes>"
      ]
     },
     "metadata": {
      "needs_background": "light"
     },
     "output_type": "display_data"
    }
   ],
   "source": [
    "thresh = img2.copy()\n",
    "#get a kernel\n",
    "kernel = np.ones((3,3),np.uint8)\n",
    "thresh = cv2.morphologyEx(thresh,cv2.MORPH_OPEN,kernel,iterations = 1)\n",
    "img3 = cv2.dilate(thresh, kernel, iterations=3)\n",
    "printImgGray(img3)"
   ]
  },
  {
   "cell_type": "code",
   "execution_count": 38,
   "metadata": {},
   "outputs": [],
   "source": [
    "rects, cnts = od.find_boundries(opening)"
   ]
  },
  {
   "cell_type": "code",
   "execution_count": 53,
   "metadata": {},
   "outputs": [
    {
     "data": {
      "text/plain": [
       "[(371, 422, 6, 17), (455, 419, 25, 20)]"
      ]
     },
     "execution_count": 53,
     "metadata": {},
     "output_type": "execute_result"
    }
   ],
   "source": [
    "rects"
   ]
  },
  {
   "cell_type": "code",
   "execution_count": 41,
   "metadata": {},
   "outputs": [],
   "source": [
    "#thresh = img2.copy()\n",
    "#get a kernel\n",
    "#kernel = np.ones((3,3),np.uint8)\n",
    "#opening = cv2.morphologyEx(thresh,cv2.MORPH_OPEN,kernel,iterations = 2)\n",
    "#extract the background from image\n",
    "sure_bg = cv2.dilate(opening,kernel,iterations = 3)\n",
    "\n",
    "dist_transform = cv2.distanceTransform(opening,cv2.DIST_L2,5)\n",
    "ret,sure_fg = cv2.threshold(dist_transform,0.7*dist_transform.max(),255,0)\n",
    "\n",
    "sure_fg = np.uint8(sure_fg)\n",
    "unknown = cv2.subtract(sure_bg,sure_bg)\n",
    "\n",
    "ret,markers = cv2.connectedComponents(sure_fg)\n",
    "\n",
    "markers = markers+1\n",
    "\n",
    "markers[unknown==255] = 0\n",
    "\n",
    "markers = cv2.watershed(img,markers)\n",
    "img[markers==-1] = [255,0,0]"
   ]
  },
  {
   "cell_type": "code",
   "execution_count": 56,
   "metadata": {},
   "outputs": [
    {
     "name": "stdout",
     "output_type": "stream",
     "text": [
      "374 431\n",
      "468 429\n"
     ]
    }
   ],
   "source": [
    "cx0, cy0 = od.get_center(img2, rects[0])\n",
    "cx1, cy1 = od.get_center(img2, rects[1])\n",
    "print(cx0, cy0)\n",
    "print(cx1, cy1)"
   ]
  },
  {
   "cell_type": "code",
   "execution_count": 43,
   "metadata": {},
   "outputs": [],
   "source": [
    "#cv2.circle(img2, (cx0, cy0), 1, (125), 1)\n",
    "#cv2.circle(img2, (cx1, cy1), 1, (125), 1)\n",
    "#cv2.imwrite('sheep1.jpg', img2)"
   ]
  },
  {
   "cell_type": "code",
   "execution_count": null,
   "metadata": {},
   "outputs": [],
   "source": []
  },
  {
   "cell_type": "code",
   "execution_count": 57,
   "metadata": {},
   "outputs": [],
   "source": [
    "obj1 = od.get_object(img2, rects[0])\n",
    "obj2 = od.get_object(img2, rects[1])"
   ]
  },
  {
   "cell_type": "code",
   "execution_count": 58,
   "metadata": {},
   "outputs": [
    {
     "data": {
      "image/png": "[encoded data removed]",
      "text/plain": [
       "<Figure size 432x288 with 1 Axes>"
      ]
     },
     "metadata": {
      "needs_background": "light"
     },
     "output_type": "display_data"
    }
   ],
   "source": [
    "printImgGray(obj1)"
   ]
  },
  {
   "cell_type": "code",
   "execution_count": 59,
   "metadata": {},
   "outputs": [
    {
     "data": {
      "image/png": "[encoded data removed]",
      "text/plain": [
       "<Figure size 432x288 with 1 Axes>"
      ]
     },
     "metadata": {
      "needs_background": "light"
     },
     "output_type": "display_data"
    }
   ],
   "source": [
    "printImgGray(obj2)"
   ]
  },
  {
   "cell_type": "code",
   "execution_count": null,
   "metadata": {},
   "outputs": [],
   "source": []
  },
  {
   "cell_type": "code",
   "execution_count": 75,
   "metadata": {},
   "outputs": [
    {
     "name": "stdout",
     "output_type": "stream",
     "text": [
      "80.0 344.5\n"
     ]
    }
   ],
   "source": [
    "area1 = cv2.contourArea(cnts[0])\n",
    "area2 = cv2.contourArea(cnts[1])\n",
    "print(area1, area2)"
   ]
  },
  {
   "cell_type": "code",
   "execution_count": 76,
   "metadata": {},
   "outputs": [
    {
     "name": "stdout",
     "output_type": "stream",
     "text": [
      "42.0 78.52691125869751\n"
     ]
    }
   ],
   "source": [
    "perimeter1 = cv2.arcLength(cnts[0],True)\n",
    "perimeter2 = cv2.arcLength(cnts[1],True)\n",
    "print(perimeter1, perimeter2)"
   ]
  },
  {
   "cell_type": "code",
   "execution_count": 78,
   "metadata": {},
   "outputs": [
    {
     "name": "stdout",
     "output_type": "stream",
     "text": [
      "1.7546832475881462 1.424419599022452\n"
     ]
    }
   ],
   "source": [
    "compactness1 = perimeter1 * perimeter1 / (4.0 * np.pi * area1)\n",
    "compactness2 = perimeter2 * perimeter2 / (4.0 * np.pi * area2)\n",
    "print(compactness1, compactness2)"
   ]
  },
  {
   "cell_type": "code",
   "execution_count": 79,
   "metadata": {},
   "outputs": [],
   "source": [
    "M1 = cv2.moments(obj1)\n",
    "M2 = cv2.moments(obj2)"
   ]
  },
  {
   "cell_type": "code",
   "execution_count": 80,
   "metadata": {},
   "outputs": [],
   "source": [
    "huM1 = cv2.HuMoments(M1)"
   ]
  },
  {
   "cell_type": "code",
   "execution_count": 81,
   "metadata": {},
   "outputs": [
    {
     "data": {
      "text/plain": [
       "array([[1.06752306e-03],\n",
       "       [6.98570728e-07],\n",
       "       [9.91288130e-38],\n",
       "       [1.60710988e-38],\n",
       "       [9.96186129e-77],\n",
       "       [1.78305023e-42],\n",
       "       [6.33675514e-76]])"
      ]
     },
     "execution_count": 81,
     "metadata": {},
     "output_type": "execute_result"
    }
   ],
   "source": [
    "huM1"
   ]
  },
  {
   "cell_type": "code",
   "execution_count": null,
   "metadata": {},
   "outputs": [],
   "source": []
  },
  {
   "cell_type": "code",
   "execution_count": null,
   "metadata": {},
   "outputs": [],
   "source": []
  },
  {
   "cell_type": "code",
   "execution_count": 69,
   "metadata": {},
   "outputs": [
    {
     "name": "stdout",
     "output_type": "stream",
     "text": [
      "[[[376 438]]\n",
      "\n",
      " [[371 438]]\n",
      "\n",
      " [[371 422]]\n",
      "\n",
      " [[376 422]]]\n"
     ]
    }
   ],
   "source": [
    "hull = cv2.convexHull(cnts[0])\n",
    "print(hull)"
   ]
  },
  {
   "cell_type": "code",
   "execution_count": 60,
   "metadata": {},
   "outputs": [
    {
     "name": "stdout",
     "output_type": "stream",
     "text": [
      "80.0\n",
      "344.5\n"
     ]
    }
   ],
   "source": [
    "print(cv2.contourArea(cnts[0]))\n",
    "print(cv2.contourArea(cnts[1]))"
   ]
  },
  {
   "cell_type": "code",
   "execution_count": 61,
   "metadata": {},
   "outputs": [
    {
     "name": "stdout",
     "output_type": "stream",
     "text": [
      "True\n",
      "False\n"
     ]
    }
   ],
   "source": [
    "print(cv2.isContourConvex(cnts[0]))\n",
    "print(cv2.isContourConvex(cnts[1]))"
   ]
  },
  {
   "cell_type": "code",
   "execution_count": 62,
   "metadata": {},
   "outputs": [
    {
     "name": "stdout",
     "output_type": "stream",
     "text": [
      "((373.5, 430.0), (16.0, 5.0), -90.0)\n",
      "((467.18951416015625, 428.79052734375), (24.369558334350586, 18.67667007446289), -2.862405300140381)\n"
     ]
    }
   ],
   "source": [
    "print(cv2.minAreaRect(cnts[0]))\n",
    "print(cv2.minAreaRect(cnts[1]))"
   ]
  },
  {
   "cell_type": "code",
   "execution_count": 63,
   "metadata": {},
   "outputs": [
    {
     "name": "stdout",
     "output_type": "stream",
     "text": [
      "42.0\n",
      "78.52691125869751\n"
     ]
    }
   ],
   "source": [
    "print(cv2.arcLength(cnts[0], True))\n",
    "print(cv2.arcLength(cnts[1], True))"
   ]
  },
  {
   "cell_type": "code",
   "execution_count": 64,
   "metadata": {},
   "outputs": [
    {
     "ename": "NameError",
     "evalue": "name 'c11' is not defined",
     "output_type": "error",
     "traceback": [
      "\u001b[0;31m---------------------------------------------------------------------------\u001b[0m",
      "\u001b[0;31mNameError\u001b[0m                                 Traceback (most recent call last)",
      "\u001b[0;32m<ipython-input-64-a3dbbaff9cad>\u001b[0m in \u001b[0;36m<module>\u001b[0;34m()\u001b[0m\n\u001b[0;32m----> 1\u001b[0;31m \u001b[0mci1\u001b[0m \u001b[0;34m=\u001b[0m \u001b[0mnp\u001b[0m\u001b[0;34m.\u001b[0m\u001b[0mreal\u001b[0m\u001b[0;34m(\u001b[0m\u001b[0mc11\u001b[0m\u001b[0;34m)\u001b[0m\u001b[0;34m\u001b[0m\u001b[0m\n\u001b[0m\u001b[1;32m      2\u001b[0m \u001b[0mci2\u001b[0m \u001b[0;34m=\u001b[0m \u001b[0mnp\u001b[0m\u001b[0;34m.\u001b[0m\u001b[0mreal\u001b[0m\u001b[0;34m(\u001b[0m\u001b[0;36m1000\u001b[0m \u001b[0;34m*\u001b[0m \u001b[0mc21\u001b[0m \u001b[0;34m*\u001b[0m \u001b[0mc12\u001b[0m\u001b[0;34m)\u001b[0m\u001b[0;34m\u001b[0m\u001b[0m\n",
      "\u001b[0;31mNameError\u001b[0m: name 'c11' is not defined"
     ]
    }
   ],
   "source": [
    "ci1 = np.real(c11)\n",
    "ci2 = np.real(1000 * c21 * c12)"
   ]
  },
  {
   "cell_type": "code",
   "execution_count": 65,
   "metadata": {},
   "outputs": [],
   "source": [
    "M1 = cv2.moments(obj1)\n",
    "M2 = cv2.moments(obj2)"
   ]
  },
  {
   "cell_type": "code",
   "execution_count": 66,
   "metadata": {},
   "outputs": [
    {
     "data": {
      "text/plain": [
       "614048.0"
      ]
     },
     "execution_count": 66,
     "metadata": {},
     "output_type": "execute_result"
    }
   ],
   "source": [
    "M1[\"m10\"]"
   ]
  },
  {
   "cell_type": "code",
   "execution_count": null,
   "metadata": {},
   "outputs": [],
   "source": []
  },
  {
   "cell_type": "code",
   "execution_count": 67,
   "metadata": {},
   "outputs": [
    {
     "data": {
      "text/plain": [
       "{'m00': 39616.0,\n",
       " 'm01': 633856.0,\n",
       " 'm02': 11635264.0,\n",
       " 'm03': 233958400.0,\n",
       " 'm10': 614048.0,\n",
       " 'm11': 9824768.0,\n",
       " 'm12': 180346592.0,\n",
       " 'm20': 9699576.0,\n",
       " 'm21': 155193216.0,\n",
       " 'm30': 155980220.0,\n",
       " 'mu02': 1493568.0,\n",
       " 'mu03': 0.0,\n",
       " 'mu11': 0.0,\n",
       " 'mu12': -3.725290298461914e-09,\n",
       " 'mu20': 181831.99999999814,\n",
       " 'mu21': -2.9802322387695312e-08,\n",
       " 'mu30': 2.9802322387695312e-08,\n",
       " 'nu02': 0.0009516642481880986,\n",
       " 'nu03': 0.0,\n",
       " 'nu11': 0.0,\n",
       " 'nu12': -1.1925691316001345e-20,\n",
       " 'nu20': 0.00011585881163531663,\n",
       " 'nu21': -9.540553052801076e-20,\n",
       " 'nu30': 9.540553052801076e-20}"
      ]
     },
     "execution_count": 67,
     "metadata": {},
     "output_type": "execute_result"
    }
   ],
   "source": [
    "M1"
   ]
  },
  {
   "cell_type": "code",
   "execution_count": 68,
   "metadata": {},
   "outputs": [
    {
     "data": {
      "text/plain": [
       "{'m00': 107024.0,\n",
       " 'm01': 1695255.0,\n",
       " 'm02': 29625505.0,\n",
       " 'm03': 558463209.0,\n",
       " 'm10': 1672419.0,\n",
       " 'm11': 26462044.0,\n",
       " 'm12': 462327568.0,\n",
       " 'm20': 31506927.0,\n",
       " 'm21': 489982594.0,\n",
       " 'm30': 659993163.0,\n",
       " 'mu02': 2772747.534151219,\n",
       " 'mu03': 1356263.6345674992,\n",
       " 'mu11': -28992.326851919293,\n",
       " 'mu12': 300745.30153708905,\n",
       " 'mu20': 5372739.233134624,\n",
       " 'mu21': -8179508.844430029,\n",
       " 'mu30': -267392.55289041996,\n",
       " 'nu02': 0.00024207390192648764,\n",
       " 'nu03': 3.619438241611851e-07,\n",
       " 'nu11': -2.5311665056157345e-06,\n",
       " 'nu12': 8.025939925135205e-08,\n",
       " 'nu20': 0.00046906540684980077,\n",
       " 'nu21': -2.182851943720607e-06,\n",
       " 'nu30': -7.135860660028919e-08}"
      ]
     },
     "execution_count": 68,
     "metadata": {},
     "output_type": "execute_result"
    }
   ],
   "source": [
    "M2"
   ]
  },
  {
   "cell_type": "code",
   "execution_count": null,
   "metadata": {},
   "outputs": [],
   "source": []
  },
  {
   "cell_type": "code",
   "execution_count": 32,
   "metadata": {},
   "outputs": [
    {
     "name": "stdout",
     "output_type": "stream",
     "text": [
      "121714\n",
      "0.0\n",
      "0.0\n",
      "(2.507671646134159e-07+0j)\n",
      "2.507671646134159e-07\n"
     ]
    }
   ],
   "source": [
    "area = sum(obj1.ravel())\n",
    "print(area)\n",
    "perim = bwperim(obj1)\n",
    "print(perim)\n",
    "compactness = perim * perim / (4.0 * np.pi * area)\n",
    "    \n",
    "c11 = complexmoment(obj1, 1, 1) / np.power(area, 2)\n",
    "ci1 = np.real(c11)\n",
    "\n",
    "print(compactness)\n",
    "print(c11)\n",
    "print(ci1)"
   ]
  },
  {
   "cell_type": "code",
   "execution_count": 29,
   "metadata": {},
   "outputs": [],
   "source": [
    "def bwperim(img):\n",
    "    img = np.array(img)\n",
    "    height, width = np.shape(img)\n",
    "    perim_img = np.zeros([height, width])\n",
    "    for row in range(height):\n",
    "        for col in range(width):\n",
    "            if row == 0 or row == height - 1 or col == 0 or col == width - 1:\n",
    "                if img[row][col] == 1:\n",
    "                    perim_img[row][col] = 1\n",
    "            else:\n",
    "                if img[row][col] == 1 and (\n",
    "                        img[row][col + 1] == 0 or img[row + 1][col + 1] == 0 or img[row + 1][col] == 0 or img[row + 1][\n",
    "                    col - 1] == 0 or img[row][col - 1] == 0 or img[row - 1][col - 1] == 0 or img[row - 1][col] == 0 or\n",
    "                        img[row - 1][col + 1] == 0):\n",
    "                    perim_img[row][col] = 1\n",
    "    # Uncomment the next two lines if you want to see the perimeter\n",
    "    # cv2.imshow(\"perim image\",perim_img)\n",
    "    # cv2.waitKey(5)\n",
    "    return sum(perim_img.ravel())"
   ]
  },
  {
   "cell_type": "code",
   "execution_count": 31,
   "metadata": {},
   "outputs": [],
   "source": [
    "# Returns a given complex moment\n",
    "def complexmoment(img, u, v):\n",
    "    img = np.array(img)\n",
    "    indices = np.argwhere(img > 0)\n",
    "    centre = np.mean(indices, 0)\n",
    "\n",
    "    momlist = np.zeros(np.shape(indices)[0], dtype=complex)\n",
    "    for i in indices:\n",
    "        c1 = i[0] - centre[0] + (i[1] - centre[1]) * 1j\n",
    "        c2 = i[0] - centre[0] + (centre[1] - i[1]) * 1j\n",
    "        momlist[i] = np.power(c1, u) * np.power(c2, v)\n",
    "\n",
    "    return sum(momlist)"
   ]
  },
  {
   "cell_type": "code",
   "execution_count": null,
   "metadata": {},
   "outputs": [],
   "source": []
  }
 ],
 "metadata": {
  "kernelspec": {
   "display_name": "openCV",
   "language": "python",
   "name": "opencv"
  },
  "language_info": {
   "codemirror_mode": {
    "name": "ipython",
    "version": 3
   },
   "file_extension": ".py",
   "mimetype": "text/x-python",
   "name": "python",
   "nbconvert_exporter": "python",
   "pygments_lexer": "ipython3",
   "version": "3.5.6"
  }
 },
 "nbformat": 4,
 "nbformat_minor": 2
}
