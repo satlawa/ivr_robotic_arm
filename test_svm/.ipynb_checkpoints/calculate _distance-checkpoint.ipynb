{
 "cells": [
  {
   "cell_type": "code",
   "execution_count": 48,
   "metadata": {},
   "outputs": [],
   "source": [
    "import os\n",
    "import cv2\n",
    "import matplotlib\n",
    "import numpy as np\n",
    "import matplotlib.pyplot as plt\n",
    "from ObjectDetection import ObjectDetection"
   ]
  },
  {
   "cell_type": "code",
   "execution_count": 49,
   "metadata": {},
   "outputs": [],
   "source": [
    "def printImgCol(img):\n",
    "    plt.imshow(cv2.cvtColor(img, cv2.COLOR_BGR2RGB))\n",
    "    plt.axis(\"off\")\n",
    "    plt.show()\n",
    "    \n",
    "def printImgGray(img):\n",
    "    plt.imshow(img, cmap='gray')\n",
    "    plt.axis(\"off\")\n",
    "    plt.show()"
   ]
  },
  {
   "cell_type": "code",
   "execution_count": 64,
   "metadata": {},
   "outputs": [],
   "source": [
    "def detect_joints(img):\n",
    "    joints = []\n",
    "    for colour in [\"yellow\", \"blue\", \"green\", \"red\"]:\n",
    "        mask = od.filter_colour(img, colour)\n",
    "        mask = od.dilate(img=mask, kernel_size=5)\n",
    "        cx, cy = od.get_center_joint(mask)\n",
    "        joints.append([cx, cy])\n",
    "    return np.array(joints)"
   ]
  },
  {
   "cell_type": "code",
   "execution_count": 51,
   "metadata": {},
   "outputs": [],
   "source": [
    "input_path = os.path.join(os.getcwd())"
   ]
  },
  {
   "cell_type": "code",
   "execution_count": 98,
   "metadata": {},
   "outputs": [],
   "source": [
    "img1 = cv2.imread(input_path+'/image_1_2.png',1)\n",
    "img2 = cv2.imread(input_path+'/image_2_2.png',1)"
   ]
  },
  {
   "cell_type": "code",
   "execution_count": 103,
   "metadata": {},
   "outputs": [],
   "source": [
    "img1 = cv2.imread(input_path+'/image_1_3.png',1)\n",
    "img2 = cv2.imread(input_path+'/image_2_3.png',1)"
   ]
  },
  {
   "cell_type": "code",
   "execution_count": 104,
   "metadata": {},
   "outputs": [
    {
     "data": {
      "image/png": "[encoded data removed]",
      "text/plain": [
       "<Figure size 432x288 with 1 Axes>"
      ]
     },
     "metadata": {
      "needs_background": "light"
     },
     "output_type": "display_data"
    },
    {
     "data": {
      "image/png": "[encoded data removed]",
      "text/plain": [
       "<Figure size 432x288 with 1 Axes>"
      ]
     },
     "metadata": {
      "needs_background": "light"
     },
     "output_type": "display_data"
    }
   ],
   "source": [
    "printImgCol(img1)\n",
    "printImgCol(img2)"
   ]
  },
  {
   "cell_type": "code",
   "execution_count": 153,
   "metadata": {},
   "outputs": [
    {
     "data": {
      "image/png": "[encoded data removed]",
      "text/plain": [
       "<Figure size 432x288 with 1 Axes>"
      ]
     },
     "metadata": {
      "needs_background": "light"
     },
     "output_type": "display_data"
    },
    {
     "data": {
      "image/png": "[encoded data removed]",
      "text/plain": [
       "<Figure size 432x288 with 1 Axes>"
      ]
     },
     "metadata": {
      "needs_background": "light"
     },
     "output_type": "display_data"
    }
   ],
   "source": [
    "printImgCol(img1[400:,400:])\n",
    "printImgCol(img2[:500,:500])"
   ]
  },
  {
   "cell_type": "code",
   "execution_count": 105,
   "metadata": {},
   "outputs": [],
   "source": [
    "od = ObjectDetection()"
   ]
  },
  {
   "cell_type": "code",
   "execution_count": 138,
   "metadata": {},
   "outputs": [],
   "source": [
    "# get joint pixel coordinates\n",
    "joints1 = detect_joints(img1)\n",
    "joints2 = detect_joints(img2)"
   ]
  },
  {
   "cell_type": "code",
   "execution_count": 139,
   "metadata": {},
   "outputs": [
    {
     "name": "stdout",
     "output_type": "stream",
     "text": [
      "[[399 532]\n",
      " [400 491]\n",
      " [400 410]\n",
      " [400 357]] [[401 532]\n",
      " [396 485]\n",
      " [398 408]\n",
      " [399 355]]\n"
     ]
    }
   ],
   "source": [
    "print(joints1, joints2)"
   ]
  },
  {
   "cell_type": "code",
   "execution_count": 140,
   "metadata": {},
   "outputs": [],
   "source": [
    "# distance between joints\n",
    "dist1 = np.sum((joints1[1] - joints1[2])**2)\n",
    "dist2 = np.sum((joints2[1] - joints2[2])**2)"
   ]
  },
  {
   "cell_type": "code",
   "execution_count": 141,
   "metadata": {},
   "outputs": [
    {
     "name": "stdout",
     "output_type": "stream",
     "text": [
      "6561 5933\n"
     ]
    }
   ],
   "source": [
    "print(dist1, dist2)"
   ]
  },
  {
   "cell_type": "code",
   "execution_count": 142,
   "metadata": {},
   "outputs": [],
   "source": [
    "# convert\n",
    "pixToMeter1 = 3/np.sqrt(dist1)\n",
    "pixToMeter2 = 3/np.sqrt(dist2)"
   ]
  },
  {
   "cell_type": "code",
   "execution_count": 143,
   "metadata": {},
   "outputs": [
    {
     "data": {
      "text/plain": [
       "array([399, 532])"
      ]
     },
     "execution_count": 143,
     "metadata": {},
     "output_type": "execute_result"
    }
   ],
   "source": [
    "# coordinates\n",
    "joints1[0]"
   ]
  },
  {
   "cell_type": "code",
   "execution_count": 144,
   "metadata": {},
   "outputs": [],
   "source": [
    "joints1 = joints1 * pixToMeter1\n",
    "joints2 = joints2 * pixToMeter2"
   ]
  },
  {
   "cell_type": "code",
   "execution_count": 145,
   "metadata": {},
   "outputs": [],
   "source": [
    "joint = []\n",
    "for i in range(4):\n",
    "    joint.append([joints1[i][0], joints2[i][0], (joints1[i][1]+joints1[i][1])/2])"
   ]
  },
  {
   "cell_type": "code",
   "execution_count": 146,
   "metadata": {},
   "outputs": [
    {
     "data": {
      "text/plain": [
       "[[14.777777777777777, 15.61810913279421, 19.703703703703702],\n",
       " [14.814814814814813, 15.42336961742271, 18.185185185185183],\n",
       " [14.814814814814813, 15.50126542357131, 15.185185185185185],\n",
       " [14.814814814814813, 15.54021332664561, 13.222222222222221]]"
      ]
     },
     "execution_count": 146,
     "metadata": {},
     "output_type": "execute_result"
    }
   ],
   "source": [
    "joint"
   ]
  },
  {
   "cell_type": "code",
   "execution_count": 155,
   "metadata": {},
   "outputs": [
    {
     "data": {
      "text/plain": [
       "array([[ 0.        ,  0.        ,  0.        ],\n",
       "       [ 0.03703704, -0.19473952, -1.51851852],\n",
       "       [ 0.03703704, -0.11684371, -4.51851852],\n",
       "       [ 0.03703704, -0.07789581, -6.48148148]])"
      ]
     },
     "execution_count": 155,
     "metadata": {},
     "output_type": "execute_result"
    }
   ],
   "source": [
    "np.array(joint) - np.array(joint[0])"
   ]
  },
  {
   "cell_type": "code",
   "execution_count": 156,
   "metadata": {},
   "outputs": [],
   "source": [
    "import math"
   ]
  },
  {
   "cell_type": "code",
   "execution_count": 158,
   "metadata": {},
   "outputs": [],
   "source": [
    "def get_angle_between_points(point1, point2):\n",
    "\n",
    "    xz_angle = ((math.atan2(point2[2] - point1[2], point2[0] - point1[0])) + math.pi/2) % math.pi\n",
    "    yz_angle = ((math.atan2(point2[2] - point1[2], point2[1] - point1[1])) + math.pi/2) % math.pi\n",
    "    return [xz_angle, yz_angle]"
   ]
  },
  {
   "cell_type": "code",
   "execution_count": 160,
   "metadata": {},
   "outputs": [
    {
     "data": {
      "text/plain": [
       "[0.02438540917271803, 3.0140457422299836]"
      ]
     },
     "execution_count": 160,
     "metadata": {},
     "output_type": "execute_result"
    }
   ],
   "source": [
    "get_angle_between_points(joint[0],joint[1])"
   ]
  },
  {
   "cell_type": "code",
   "execution_count": 159,
   "metadata": {},
   "outputs": [
    {
     "data": {
      "text/plain": [
       "[14.777777777777777, 15.61810913279421, 19.703703703703702]"
      ]
     },
     "execution_count": 159,
     "metadata": {},
     "output_type": "execute_result"
    }
   ],
   "source": [
    "joint[0]"
   ]
  },
  {
   "cell_type": "code",
   "execution_count": null,
   "metadata": {},
   "outputs": [],
   "source": []
  },
  {
   "cell_type": "code",
   "execution_count": null,
   "metadata": {},
   "outputs": [],
   "source": [
    "def set_coordinates(image1_joint, image2_joint, joint_pos):\n",
    "\n",
    "    joint_pos[\"x\"] = image2_joint[0]\n",
    "    joint_pos[\"y\"] = image1_joint[0]\n",
    "    # If one camera 1 is obscured then use the other camera\n",
    "    if image1_joint[1] == 0:\n",
    "      joint_pos[\"z\"] = image2_joint[1]\n",
    "    # If neither camera is obscured then set it to the mean of the two\n",
    "    # If both joints are obscured then leave it unchanged\n",
    "    elif image2_joint[1] != 0:\n",
    "      joint_pos[\"z\"] = (image2_joint[1] + image1_joint[1]) / 2"
   ]
  },
  {
   "cell_type": "code",
   "execution_count": null,
   "metadata": {},
   "outputs": [],
   "source": []
  },
  {
   "cell_type": "code",
   "execution_count": 80,
   "metadata": {},
   "outputs": [
    {
     "name": "stdout",
     "output_type": "stream",
     "text": [
      "0.048765984909417075 0.042314421837409036\n"
     ]
    }
   ],
   "source": [
    "print(pixToMeter1, pixToMeter2)"
   ]
  },
  {
   "cell_type": "code",
   "execution_count": 84,
   "metadata": {},
   "outputs": [
    {
     "name": "stdout",
     "output_type": "stream",
     "text": [
      "0.037037037037037035 0.038947903074299774\n"
     ]
    }
   ],
   "source": [
    "print(pixToMeter1, pixToMeter2)"
   ]
  },
  {
   "cell_type": "code",
   "execution_count": 87,
   "metadata": {},
   "outputs": [
    {
     "name": "stdout",
     "output_type": "stream",
     "text": [
      "0.03773584905660377 0.03772913389522725\n"
     ]
    }
   ],
   "source": [
    "print(pixToMeter1, pixToMeter2)"
   ]
  },
  {
   "cell_type": "code",
   "execution_count": 33,
   "metadata": {},
   "outputs": [
    {
     "data": {
      "text/plain": [
       "array([14.77777778, 19.7037037 ])"
      ]
     },
     "execution_count": 33,
     "metadata": {},
     "output_type": "execute_result"
    }
   ],
   "source": [
    "pixToMeter * joints_np[0]"
   ]
  },
  {
   "cell_type": "code",
   "execution_count": 34,
   "metadata": {},
   "outputs": [
    {
     "data": {
      "text/plain": [
       "array([14.81481481, 18.18518519])"
      ]
     },
     "execution_count": 34,
     "metadata": {},
     "output_type": "execute_result"
    }
   ],
   "source": [
    "pixToMeter * joints_np[1]"
   ]
  },
  {
   "cell_type": "code",
   "execution_count": 36,
   "metadata": {},
   "outputs": [
    {
     "data": {
      "text/plain": [
       "array([14.81481481, 15.18518519])"
      ]
     },
     "execution_count": 36,
     "metadata": {},
     "output_type": "execute_result"
    }
   ],
   "source": [
    "pixToMeter * joints_np[2]"
   ]
  },
  {
   "cell_type": "code",
   "execution_count": 37,
   "metadata": {},
   "outputs": [
    {
     "data": {
      "text/plain": [
       "array([14.81481481, 13.22222222])"
      ]
     },
     "execution_count": 37,
     "metadata": {},
     "output_type": "execute_result"
    }
   ],
   "source": [
    "pixToMeter * joints_np[3]"
   ]
  },
  {
   "cell_type": "code",
   "execution_count": 38,
   "metadata": {},
   "outputs": [],
   "source": [
    "ja1 = np.arctan2(joints_np[0][0]- joints_np[1][0], joints_np[0][1] - joints_np[1][1])\n",
    "ja2 = np.arctan2(joints_np[1][0]-joints_np[2][0], joints_np[1][1]-joints_np[2][1]) - ja1\n",
    "ja3 = np.arctan2(joints_np[2][0]-joints_np[3][0], joints_np[2][1]-joints_np[3][1]) - ja2 - ja1\n",
    "joint_angles = np.array([ja1, ja2, ja3])"
   ]
  },
  {
   "cell_type": "code",
   "execution_count": 39,
   "metadata": {},
   "outputs": [
    {
     "data": {
      "text/plain": [
       "array([-0.02438541,  0.02438541,  0.        ])"
      ]
     },
     "execution_count": 39,
     "metadata": {},
     "output_type": "execute_result"
    }
   ],
   "source": [
    "joint_angles"
   ]
  },
  {
   "cell_type": "code",
   "execution_count": null,
   "metadata": {},
   "outputs": [],
   "source": []
  }
 ],
 "metadata": {
  "kernelspec": {
   "display_name": "OpenCV",
   "language": "python",
   "name": "ocv"
  },
  "language_info": {
   "codemirror_mode": {
    "name": "ipython",
    "version": 3
   },
   "file_extension": ".py",
   "mimetype": "text/x-python",
   "name": "python",
   "nbconvert_exporter": "python",
   "pygments_lexer": "ipython3",
   "version": "3.7.4"
  }
 },
 "nbformat": 4,
 "nbformat_minor": 2
}
