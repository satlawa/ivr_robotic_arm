{
 "cells": [
  {
   "cell_type": "code",
   "execution_count": 45,
   "metadata": {},
   "outputs": [],
   "source": [
    "import os\n",
    "import cv2\n",
    "import matplotlib\n",
    "import numpy as np\n",
    "import matplotlib.pyplot as plt"
   ]
  },
  {
   "cell_type": "code",
   "execution_count": 2,
   "metadata": {},
   "outputs": [
    {
     "name": "stdout",
     "output_type": "stream",
     "text": [
      "\u001b[31m-05_075_-1.png\u001b[m\u001b[m*        \u001b[31mimage_1_4.png\u001b[m\u001b[m*         \u001b[31mimage_2_6.png\u001b[m\u001b[m*\r\n",
      "\u001b[31m05_025_025.png\u001b[m\u001b[m*        \u001b[31mimage_1_5.png\u001b[m\u001b[m*         \u001b[31mimage_2_7.png\u001b[m\u001b[m*\r\n",
      "\u001b[31m05_025_075.png\u001b[m\u001b[m*        \u001b[31mimage_1_6.png\u001b[m\u001b[m*         \u001b[31mimage_2_8.png\u001b[m\u001b[m*\r\n",
      "\u001b[31m05_075_075.png\u001b[m\u001b[m*        \u001b[31mimage_1_7.png\u001b[m\u001b[m*         \u001b[31mimage_2_9.png\u001b[m\u001b[m*\r\n",
      "\u001b[31mIVR_assignment.pdf\u001b[m\u001b[m*    \u001b[31mimage_1_8.png\u001b[m\u001b[m*         ivr_01.ipynb\r\n",
      "\u001b[31mdetectBlob.py\u001b[m\u001b[m*         \u001b[31mimage_1_9.png\u001b[m\u001b[m*         ivr_011.ipynb\r\n",
      "\u001b[31mdetect_blob.py\u001b[m\u001b[m*        \u001b[31mimage_1_copy.png\u001b[m\u001b[m*      \u001b[30m\u001b[43mlabs\u001b[m\u001b[m/\r\n",
      "\u001b[31mimage1.py\u001b[m\u001b[m*             \u001b[31mimage_2_1.png\u001b[m\u001b[m*         \u001b[31mtarget_move.py\u001b[m\u001b[m*\r\n",
      "\u001b[31mimage2.py\u001b[m\u001b[m*             \u001b[31mimage_2_2.png\u001b[m\u001b[m*         \u001b[31mvideo_capture.py\u001b[m\u001b[m*\r\n",
      "\u001b[31mimage_1_1.png\u001b[m\u001b[m*         \u001b[31mimage_2_3.png\u001b[m\u001b[m*         \u001b[31mvideo_filter_color.py\u001b[m\u001b[m*\r\n",
      "\u001b[31mimage_1_2.png\u001b[m\u001b[m*         \u001b[31mimage_2_4.png\u001b[m\u001b[m*\r\n",
      "\u001b[31mimage_1_3.png\u001b[m\u001b[m*         \u001b[31mimage_2_5.png\u001b[m\u001b[m*\r\n"
     ]
    }
   ],
   "source": [
    "ls"
   ]
  },
  {
   "cell_type": "code",
   "execution_count": 3,
   "metadata": {},
   "outputs": [],
   "source": [
    "def printImgCol(img):\n",
    "    plt.imshow(cv2.cvtColor(img, cv2.COLOR_BGR2RGB))\n",
    "    plt.axis(\"off\")\n",
    "    plt.show()\n",
    "    \n",
    "def printImgGray(img):\n",
    "    plt.imshow(img, cmap='gray')\n",
    "    plt.axis(\"off\")\n",
    "    plt.show()"
   ]
  },
  {
   "cell_type": "code",
   "execution_count": 12,
   "metadata": {},
   "outputs": [],
   "source": [
    "img = cv2.imread('image_1_2.png',1)"
   ]
  },
  {
   "cell_type": "code",
   "execution_count": 13,
   "metadata": {},
   "outputs": [
    {
     "data": {
      "image/png": "[encoded data removed]",
      "text/plain": [
       "<Figure size 432x288 with 1 Axes>"
      ]
     },
     "metadata": {
      "needs_background": "light"
     },
     "output_type": "display_data"
    },
    {
     "name": "stdout",
     "output_type": "stream",
     "text": [
      "(800, 800, 3)\n"
     ]
    }
   ],
   "source": [
    "printImgCol(img)\n",
    "print(img.shape)"
   ]
  },
  {
   "cell_type": "code",
   "execution_count": 10,
   "metadata": {},
   "outputs": [],
   "source": [
    "def detect_red(image):\n",
    "    # Isolate the blue colour in the image as a binary image\n",
    "    mask = cv2.inRange(image, (0, 0, 100), (0, 0, 255))\n",
    "    # This applies a dilate that makes the binary region larger (the more iterations the larger it becomes)\n",
    "    kernel = np.ones((5, 5), np.uint8)\n",
    "    mask = cv2.dilate(mask, kernel, iterations=3)\n",
    "    # Obtain the moments of the binary image\n",
    "    M = cv2.moments(mask)\n",
    "    # Calculate pixel coordinates for the centre of the blob\n",
    "    cx = int(M['m10'] / M['m00'])\n",
    "    cy = int(M['m01'] / M['m00'])\n",
    "    return np.array([cx, cy])"
   ]
  },
  {
   "cell_type": "code",
   "execution_count": 11,
   "metadata": {},
   "outputs": [
    {
     "data": {
      "text/plain": [
       "array([235, 355])"
      ]
     },
     "execution_count": 11,
     "metadata": {},
     "output_type": "execute_result"
    }
   ],
   "source": [
    "detect_red(img)"
   ]
  },
  {
   "cell_type": "code",
   "execution_count": 15,
   "metadata": {},
   "outputs": [],
   "source": [
    "## create mask for color"
   ]
  },
  {
   "cell_type": "code",
   "execution_count": 39,
   "metadata": {},
   "outputs": [],
   "source": [
    "# red\n",
    "#mask = cv2.inRange(img, (0, 0, 100), (20, 20, 255))\n",
    "# green\n",
    "#mask = cv2.inRange(img, (0, 100, 0), (20, 255, 20))\n",
    "# blue\n",
    "#mask = cv2.inRange(img, (100, 0, 0), (255, 20, 20))\n",
    "# yellow\n",
    "#mask = cv2.inRange(img, (0, 100, 100), (20, 255, 255))\n",
    "# orange\n",
    "mask = cv2.inRange(img, (80, 100, 120), (110, 190, 210))"
   ]
  },
  {
   "cell_type": "code",
   "execution_count": 40,
   "metadata": {},
   "outputs": [
    {
     "data": {
      "image/png": "[encoded data removed]",
      "text/plain": [
       "<Figure size 432x288 with 1 Axes>"
      ]
     },
     "metadata": {
      "needs_background": "light"
     },
     "output_type": "display_data"
    },
    {
     "name": "stdout",
     "output_type": "stream",
     "text": [
      "(800, 800)\n"
     ]
    }
   ],
   "source": [
    "printImgGray(mask)\n",
    "print(mask.shape)"
   ]
  },
  {
   "cell_type": "code",
   "execution_count": 41,
   "metadata": {},
   "outputs": [
    {
     "data": {
      "text/plain": [
       "True"
      ]
     },
     "execution_count": 41,
     "metadata": {},
     "output_type": "execute_result"
    }
   ],
   "source": [
    "cv2.imwrite('sheep.jpg', mask)"
   ]
  },
  {
   "cell_type": "code",
   "execution_count": 46,
   "metadata": {},
   "outputs": [],
   "source": [
    "kernel = np.ones((5, 5), np.uint8)"
   ]
  },
  {
   "cell_type": "code",
   "execution_count": 47,
   "metadata": {},
   "outputs": [
    {
     "data": {
      "text/plain": [
       "array([[1, 1, 1, 1, 1],\n",
       "       [1, 1, 1, 1, 1],\n",
       "       [1, 1, 1, 1, 1],\n",
       "       [1, 1, 1, 1, 1],\n",
       "       [1, 1, 1, 1, 1]], dtype=uint8)"
      ]
     },
     "execution_count": 47,
     "metadata": {},
     "output_type": "execute_result"
    }
   ],
   "source": [
    "kernel"
   ]
  },
  {
   "cell_type": "code",
   "execution_count": 48,
   "metadata": {},
   "outputs": [],
   "source": [
    "mask2 = cv2.dilate(mask, kernel, iterations=3)"
   ]
  },
  {
   "cell_type": "code",
   "execution_count": 49,
   "metadata": {},
   "outputs": [
    {
     "data": {
      "image/png": "[encoded data removed]",
      "text/plain": [
       "<Figure size 432x288 with 1 Axes>"
      ]
     },
     "metadata": {
      "needs_background": "light"
     },
     "output_type": "display_data"
    },
    {
     "name": "stdout",
     "output_type": "stream",
     "text": [
      "(800, 800)\n"
     ]
    }
   ],
   "source": [
    "printImgGray(mask2)\n",
    "print(mask2.shape)"
   ]
  },
  {
   "cell_type": "code",
   "execution_count": 50,
   "metadata": {},
   "outputs": [],
   "source": [
    "M = cv2.moments(mask2)"
   ]
  },
  {
   "cell_type": "code",
   "execution_count": 51,
   "metadata": {},
   "outputs": [
    {
     "data": {
      "text/plain": [
       "{'m00': 343740.0,\n",
       " 'm01': 148328145.0,\n",
       " 'm02': 64033876965.0,\n",
       " 'm03': 27655933117635.0,\n",
       " 'm10': 142398375.0,\n",
       " 'm11': 61505699355.0,\n",
       " 'm12': 26577533054865.0,\n",
       " 'm20': 59517237405.0,\n",
       " 'm21': 25729629296985.0,\n",
       " 'm30': 25078752236175.0,\n",
       " 'mu02': 28411790.330116272,\n",
       " 'mu03': -12433328.72265625,\n",
       " 'mu11': 59004717.29599762,\n",
       " 'mu12': -183083179.62867928,\n",
       " 'mu20': 527020372.8227005,\n",
       " 'mu21': -1696040563.2385864,\n",
       " 'mu30': -13618684651.527344,\n",
       " 'nu02': 0.00024045757103071286,\n",
       " 'nu03': -1.794784186761457e-07,\n",
       " 'nu11': 0.0004993747608122454,\n",
       " 'nu12': -2.6428545644481284e-06,\n",
       " 'nu20': 0.004460332744266337,\n",
       " 'nu21': -2.4482798218466836e-05,\n",
       " 'nu30': -0.00019658934789130498}"
      ]
     },
     "execution_count": 51,
     "metadata": {},
     "output_type": "execute_result"
    }
   ],
   "source": [
    "M"
   ]
  },
  {
   "cell_type": "code",
   "execution_count": 52,
   "metadata": {},
   "outputs": [],
   "source": [
    "cx = int(M['m10'] / M['m00'])"
   ]
  },
  {
   "cell_type": "code",
   "execution_count": 53,
   "metadata": {},
   "outputs": [
    {
     "data": {
      "text/plain": [
       "414"
      ]
     },
     "execution_count": 53,
     "metadata": {},
     "output_type": "execute_result"
    }
   ],
   "source": [
    "cx"
   ]
  },
  {
   "cell_type": "code",
   "execution_count": null,
   "metadata": {},
   "outputs": [],
   "source": []
  }
 ],
 "metadata": {
  "kernelspec": {
   "display_name": "openCV",
   "language": "python",
   "name": "opencv"
  },
  "language_info": {
   "codemirror_mode": {
    "name": "ipython",
    "version": 3
   },
   "file_extension": ".py",
   "mimetype": "text/x-python",
   "name": "python",
   "nbconvert_exporter": "python",
   "pygments_lexer": "ipython3",
   "version": "3.5.6"
  }
 },
 "nbformat": 4,
 "nbformat_minor": 2
}
