{
 "cells": [
  {
   "cell_type": "code",
   "execution_count": 4,
   "metadata": {},
   "outputs": [],
   "source": [
    "import os\n",
    "import cv2\n",
    "import matplotlib\n",
    "import numpy\n",
    "import matplotlib.pyplot as plt"
   ]
  },
  {
   "cell_type": "code",
   "execution_count": 5,
   "metadata": {},
   "outputs": [
    {
     "name": "stdout",
     "output_type": "stream",
     "text": [
      "\u001b[31m-05_075_-1.png\u001b[m\u001b[m*        \u001b[31mIVR_assignment.pdf\u001b[m\u001b[m*    \u001b[30m\u001b[43mlabs\u001b[m\u001b[m/\r\n",
      "\u001b[31m05_025_025.png\u001b[m\u001b[m*        \u001b[31mdetectBlob.py\u001b[m\u001b[m*         \u001b[31mvideo_capture.py\u001b[m\u001b[m*\r\n",
      "\u001b[31m05_025_075.png\u001b[m\u001b[m*        \u001b[31mdetect_blob.py\u001b[m\u001b[m*        \u001b[31mvideo_filter_color.py\u001b[m\u001b[m*\r\n",
      "\u001b[31m05_075_075.png\u001b[m\u001b[m*        ivr_01.ipynb\r\n"
     ]
    }
   ],
   "source": [
    "ls"
   ]
  },
  {
   "cell_type": "code",
   "execution_count": 6,
   "metadata": {},
   "outputs": [],
   "source": [
    "def printImgCol(img):\n",
    "    plt.imshow(cv2.cvtColor(img, cv2.COLOR_BGR2RGB))\n",
    "    plt.axis(\"off\")\n",
    "    plt.show()\n",
    "    \n",
    "def printImgGray(img):\n",
    "    plt.imshow(img, cmap='gray')\n",
    "    plt.axis(\"off\")\n",
    "    plt.show()"
   ]
  },
  {
   "cell_type": "code",
   "execution_count": 7,
   "metadata": {},
   "outputs": [],
   "source": [
    "img = cv2.imread('05_025_025.png',1)"
   ]
  },
  {
   "cell_type": "code",
   "execution_count": 8,
   "metadata": {},
   "outputs": [
    {
     "data": {
      "image/png": "[encoded data removed]",
      "text/plain": [
       "<Figure size 432x288 with 1 Axes>"
      ]
     },
     "metadata": {
      "needs_background": "light"
     },
     "output_type": "display_data"
    },
    {
     "name": "stdout",
     "output_type": "stream",
     "text": [
      "(800, 800, 3)\n"
     ]
    }
   ],
   "source": [
    "printImgCol(img)\n",
    "print(img.shape)"
   ]
  },
  {
   "cell_type": "code",
   "execution_count": 10,
   "metadata": {},
   "outputs": [],
   "source": [
    "def detect_red(image):\n",
    "    # Isolate the blue colour in the image as a binary image\n",
    "    mask = cv2.inRange(image, (0, 0, 100), (0, 0, 255))\n",
    "    # This applies a dilate that makes the binary region larger (the more iterations the larger it becomes)\n",
    "    kernel = np.ones((5, 5), np.uint8)\n",
    "    mask = cv2.dilate(mask, kernel, iterations=3)\n",
    "    # Obtain the moments of the binary image\n",
    "    M = cv2.moments(mask)\n",
    "    # Calculate pixel coordinates for the centre of the blob\n",
    "    cx = int(M['m10'] / M['m00'])\n",
    "    cy = int(M['m01'] / M['m00'])\n",
    "    return np.array([cx, cy])"
   ]
  },
  {
   "cell_type": "code",
   "execution_count": 11,
   "metadata": {},
   "outputs": [
    {
     "data": {
      "text/plain": [
       "array([235, 355])"
      ]
     },
     "execution_count": 11,
     "metadata": {},
     "output_type": "execute_result"
    }
   ],
   "source": [
    "detect_red(img)"
   ]
  },
  {
   "cell_type": "code",
   "execution_count": 15,
   "metadata": {},
   "outputs": [],
   "source": [
    "## create mask for color"
   ]
  },
  {
   "cell_type": "code",
   "execution_count": 40,
   "metadata": {},
   "outputs": [],
   "source": [
    "# red\n",
    "#mask = cv2.inRange(img, (0, 0, 100), (20, 20, 255))\n",
    "# green\n",
    "#mask = cv2.inRange(img, (0, 100, 0), (20, 255, 20))\n",
    "# blue\n",
    "#mask = cv2.inRange(img, (100, 0, 0), (255, 20, 20))\n",
    "# yellow\n",
    "mask = cv2.inRange(img, (0, 100, 100), (20, 255, 255))"
   ]
  },
  {
   "cell_type": "code",
   "execution_count": 41,
   "metadata": {},
   "outputs": [
    {
     "data": {
      "image/png": "[encoded data removed]",
      "text/plain": [
       "<Figure size 432x288 with 1 Axes>"
      ]
     },
     "metadata": {
      "needs_background": "light"
     },
     "output_type": "display_data"
    },
    {
     "name": "stdout",
     "output_type": "stream",
     "text": [
      "(800, 800)\n"
     ]
    }
   ],
   "source": [
    "printImgGray(mask)\n",
    "print(mask.shape)"
   ]
  },
  {
   "cell_type": "code",
   "execution_count": 42,
   "metadata": {},
   "outputs": [],
   "source": [
    "kernel = np.ones((5, 5), np.uint8)"
   ]
  },
  {
   "cell_type": "code",
   "execution_count": 43,
   "metadata": {},
   "outputs": [
    {
     "data": {
      "text/plain": [
       "array([[1, 1, 1, 1, 1],\n",
       "       [1, 1, 1, 1, 1],\n",
       "       [1, 1, 1, 1, 1],\n",
       "       [1, 1, 1, 1, 1],\n",
       "       [1, 1, 1, 1, 1]], dtype=uint8)"
      ]
     },
     "execution_count": 43,
     "metadata": {},
     "output_type": "execute_result"
    }
   ],
   "source": [
    "kernel"
   ]
  },
  {
   "cell_type": "code",
   "execution_count": 44,
   "metadata": {},
   "outputs": [],
   "source": [
    "mask2 = cv2.dilate(mask, kernel, iterations=3)"
   ]
  },
  {
   "cell_type": "code",
   "execution_count": 45,
   "metadata": {},
   "outputs": [
    {
     "data": {
      "image/png": "[encoded data removed]",
      "text/plain": [
       "<Figure size 432x288 with 1 Axes>"
      ]
     },
     "metadata": {
      "needs_background": "light"
     },
     "output_type": "display_data"
    },
    {
     "name": "stdout",
     "output_type": "stream",
     "text": [
      "(800, 800)\n"
     ]
    }
   ],
   "source": [
    "printImgGray(mask2)\n",
    "print(mask2.shape)"
   ]
  },
  {
   "cell_type": "code",
   "execution_count": 46,
   "metadata": {},
   "outputs": [],
   "source": [
    "M = cv2.moments(mask2)"
   ]
  },
  {
   "cell_type": "code",
   "execution_count": 47,
   "metadata": {},
   "outputs": [
    {
     "data": {
      "text/plain": [
       "{'m00': 623985.0,\n",
       " 'm01': 341113500.0,\n",
       " 'm02': 186586081110.0,\n",
       " 'm03': 102120841409400.0,\n",
       " 'm10': 247966845.0,\n",
       " 'm11': 135549746670.0,\n",
       " 'm12': 74141256007290.0,\n",
       " 'm20': 98679664635.0,\n",
       " 'm21': 53940363843000.0,\n",
       " 'm30': 39325327436445.0,\n",
       " 'mu02': 109771772.03515625,\n",
       " 'mu03': -75672639.171875,\n",
       " 'mu11': -6137496.939102173,\n",
       " 'mu12': 91255514.68817139,\n",
       " 'mu20': 139545530.76828003,\n",
       " 'mu21': 89652167.3686676,\n",
       " 'mu30': -121789411.3125,\n",
       " 'nu02': 0.0002819307037786011,\n",
       " 'nu03': -2.460387468114943e-07,\n",
       " 'nu11': -1.576314929967526e-05,\n",
       " 'nu12': 2.9670423443960455e-07,\n",
       " 'nu20': 0.00035839969574381686,\n",
       " 'nu21': 2.914911802959756e-07,\n",
       " 'nu30': -3.959808255950731e-07}"
      ]
     },
     "execution_count": 47,
     "metadata": {},
     "output_type": "execute_result"
    }
   ],
   "source": [
    "M"
   ]
  },
  {
   "cell_type": "code",
   "execution_count": 48,
   "metadata": {},
   "outputs": [],
   "source": [
    "cx = int(M['m10'] / M['m00'])"
   ]
  },
  {
   "cell_type": "code",
   "execution_count": 49,
   "metadata": {},
   "outputs": [
    {
     "data": {
      "text/plain": [
       "397"
      ]
     },
     "execution_count": 49,
     "metadata": {},
     "output_type": "execute_result"
    }
   ],
   "source": [
    "cx"
   ]
  },
  {
   "cell_type": "code",
   "execution_count": null,
   "metadata": {},
   "outputs": [],
   "source": []
  }
 ],
 "metadata": {
  "kernelspec": {
   "display_name": "openCV",
   "language": "python",
   "name": "opencv"
  },
  "language_info": {
   "codemirror_mode": {
    "name": "ipython",
    "version": 3
   },
   "file_extension": ".py",
   "mimetype": "text/x-python",
   "name": "python",
   "nbconvert_exporter": "python",
   "pygments_lexer": "ipython3",
   "version": "3.5.6"
  }
 },
 "nbformat": 4,
 "nbformat_minor": 2
}
