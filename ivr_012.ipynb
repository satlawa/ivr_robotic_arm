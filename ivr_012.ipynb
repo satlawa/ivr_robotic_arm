{
 "cells": [
  {
   "cell_type": "code",
   "execution_count": 1,
   "metadata": {},
   "outputs": [],
   "source": [
    "import os\n",
    "import cv2\n",
    "import matplotlib\n",
    "import numpy as np\n",
    "import matplotlib.pyplot as plt"
   ]
  },
  {
   "cell_type": "code",
   "execution_count": 2,
   "metadata": {},
   "outputs": [
    {
     "name": "stdout",
     "output_type": "stream",
     "text": [
      "\u001b[31m-05_075_-1.png\u001b[m\u001b[m*        \u001b[31mimage_1_4.png\u001b[m\u001b[m*         \u001b[31mimage_2_6.png\u001b[m\u001b[m*\r\n",
      "\u001b[31m05_025_025.png\u001b[m\u001b[m*        \u001b[31mimage_1_5.png\u001b[m\u001b[m*         \u001b[31mimage_2_7.png\u001b[m\u001b[m*\r\n",
      "\u001b[31m05_025_075.png\u001b[m\u001b[m*        \u001b[31mimage_1_6.png\u001b[m\u001b[m*         \u001b[31mimage_2_8.png\u001b[m\u001b[m*\r\n",
      "\u001b[31m05_075_075.png\u001b[m\u001b[m*        \u001b[31mimage_1_7.png\u001b[m\u001b[m*         \u001b[31mimage_2_9.png\u001b[m\u001b[m*\r\n",
      "\u001b[31mIVR_assignment.pdf\u001b[m\u001b[m*    \u001b[31mimage_1_8.png\u001b[m\u001b[m*         ivr_01.ipynb\r\n",
      "\u001b[31mdetectBlob.py\u001b[m\u001b[m*         \u001b[31mimage_1_9.png\u001b[m\u001b[m*         ivr_011.ipynb\r\n",
      "\u001b[31mdetect_blob.py\u001b[m\u001b[m*        \u001b[31mimage_1_copy.png\u001b[m\u001b[m*      ivr_012.ipynb\r\n",
      "\u001b[31mimage1.py\u001b[m\u001b[m*             \u001b[31mimage_2_1.png\u001b[m\u001b[m*         \u001b[30m\u001b[43mlabs\u001b[m\u001b[m/\r\n",
      "\u001b[31mimage2.py\u001b[m\u001b[m*             \u001b[31mimage_2_2.png\u001b[m\u001b[m*         sheep.jpg\r\n",
      "\u001b[31mimage_1_1.png\u001b[m\u001b[m*         \u001b[31mimage_2_3.png\u001b[m\u001b[m*         \u001b[31mtarget_move.py\u001b[m\u001b[m*\r\n",
      "\u001b[31mimage_1_2.png\u001b[m\u001b[m*         \u001b[31mimage_2_4.png\u001b[m\u001b[m*         \u001b[31mvideo_capture.py\u001b[m\u001b[m*\r\n",
      "\u001b[31mimage_1_3.png\u001b[m\u001b[m*         \u001b[31mimage_2_5.png\u001b[m\u001b[m*         \u001b[31mvideo_filter_color.py\u001b[m\u001b[m*\r\n"
     ]
    }
   ],
   "source": [
    "ls"
   ]
  },
  {
   "cell_type": "code",
   "execution_count": 3,
   "metadata": {},
   "outputs": [],
   "source": [
    "def printImgCol(img):\n",
    "    plt.imshow(cv2.cvtColor(img, cv2.COLOR_BGR2RGB))\n",
    "    plt.axis(\"off\")\n",
    "    plt.show()\n",
    "    \n",
    "def printImgGray(img):\n",
    "    plt.imshow(img, cmap='gray')\n",
    "    plt.axis(\"off\")\n",
    "    plt.show()"
   ]
  },
  {
   "cell_type": "code",
   "execution_count": 4,
   "metadata": {},
   "outputs": [],
   "source": [
    "img = cv2.imread('image_1_2.png',1)"
   ]
  },
  {
   "cell_type": "code",
   "execution_count": 5,
   "metadata": {},
   "outputs": [
    {
     "data": {
      "image/png": "[encoded data removed]",
      "text/plain": [
       "<Figure size 432x288 with 1 Axes>"
      ]
     },
     "metadata": {
      "needs_background": "light"
     },
     "output_type": "display_data"
    },
    {
     "name": "stdout",
     "output_type": "stream",
     "text": [
      "(800, 800, 3)\n"
     ]
    }
   ],
   "source": [
    "printImgCol(img)\n",
    "print(img.shape)"
   ]
  },
  {
   "cell_type": "code",
   "execution_count": 6,
   "metadata": {},
   "outputs": [],
   "source": [
    "def detect_red(image):\n",
    "    # Isolate the blue colour in the image as a binary image\n",
    "    mask = cv2.inRange(image, (0, 0, 100), (0, 0, 255))\n",
    "    # This applies a dilate that makes the binary region larger (the more iterations the larger it becomes)\n",
    "    kernel = np.ones((5, 5), np.uint8)\n",
    "    mask = cv2.dilate(mask, kernel, iterations=3)\n",
    "    # Obtain the moments of the binary image\n",
    "    M = cv2.moments(mask)\n",
    "    # Calculate pixel coordinates for the centre of the blob\n",
    "    cx = int(M['m10'] / M['m00'])\n",
    "    cy = int(M['m01'] / M['m00'])\n",
    "    return np.array([cx, cy])"
   ]
  },
  {
   "cell_type": "code",
   "execution_count": 7,
   "metadata": {},
   "outputs": [
    {
     "data": {
      "text/plain": [
       "array([400, 357])"
      ]
     },
     "execution_count": 7,
     "metadata": {},
     "output_type": "execute_result"
    }
   ],
   "source": [
    "detect_red(img)"
   ]
  },
  {
   "cell_type": "code",
   "execution_count": 8,
   "metadata": {},
   "outputs": [],
   "source": [
    "## create mask for color"
   ]
  },
  {
   "cell_type": "code",
   "execution_count": 9,
   "metadata": {},
   "outputs": [],
   "source": [
    "# red\n",
    "#mask = cv2.inRange(img, (0, 0, 100), (20, 20, 255))\n",
    "# green\n",
    "#mask = cv2.inRange(img, (0, 100, 0), (20, 255, 20))\n",
    "# blue\n",
    "#mask = cv2.inRange(img, (100, 0, 0), (255, 20, 20))\n",
    "# yellow\n",
    "#mask = cv2.inRange(img, (0, 100, 100), (20, 255, 255))\n",
    "# orange\n",
    "mask = cv2.inRange(img, (80, 100, 120), (110, 190, 210))"
   ]
  },
  {
   "cell_type": "code",
   "execution_count": 10,
   "metadata": {},
   "outputs": [
    {
     "data": {
      "image/png": "[encoded data removed]",
      "text/plain": [
       "<Figure size 432x288 with 1 Axes>"
      ]
     },
     "metadata": {
      "needs_background": "light"
     },
     "output_type": "display_data"
    },
    {
     "name": "stdout",
     "output_type": "stream",
     "text": [
      "(800, 800)\n"
     ]
    }
   ],
   "source": [
    "printImgGray(mask)\n",
    "print(mask.shape)"
   ]
  },
  {
   "cell_type": "code",
   "execution_count": 11,
   "metadata": {},
   "outputs": [
    {
     "data": {
      "text/plain": [
       "True"
      ]
     },
     "execution_count": 11,
     "metadata": {},
     "output_type": "execute_result"
    }
   ],
   "source": [
    "cv2.imwrite('sheep.jpg', mask)"
   ]
  },
  {
   "cell_type": "code",
   "execution_count": 12,
   "metadata": {},
   "outputs": [],
   "source": [
    "kernel = np.ones((5, 5), np.uint8)"
   ]
  },
  {
   "cell_type": "code",
   "execution_count": 13,
   "metadata": {},
   "outputs": [
    {
     "data": {
      "text/plain": [
       "array([[1, 1, 1, 1, 1],\n",
       "       [1, 1, 1, 1, 1],\n",
       "       [1, 1, 1, 1, 1],\n",
       "       [1, 1, 1, 1, 1],\n",
       "       [1, 1, 1, 1, 1]], dtype=uint8)"
      ]
     },
     "execution_count": 13,
     "metadata": {},
     "output_type": "execute_result"
    }
   ],
   "source": [
    "kernel"
   ]
  },
  {
   "cell_type": "code",
   "execution_count": 14,
   "metadata": {},
   "outputs": [],
   "source": [
    "mask2 = cv2.dilate(mask, kernel, iterations=3)"
   ]
  },
  {
   "cell_type": "code",
   "execution_count": 50,
   "metadata": {},
   "outputs": [
    {
     "data": {
      "image/png": "[encoded data removed]",
      "text/plain": [
       "<Figure size 432x288 with 1 Axes>"
      ]
     },
     "metadata": {
      "needs_background": "light"
     },
     "output_type": "display_data"
    },
    {
     "name": "stdout",
     "output_type": "stream",
     "text": [
      "(800, 800)\n"
     ]
    }
   ],
   "source": [
    "printImgGray(mask2)\n",
    "print(mask2.shape)"
   ]
  },
  {
   "cell_type": "code",
   "execution_count": 51,
   "metadata": {},
   "outputs": [],
   "source": [
    "def find_obj_img(im_th):\n",
    "    '''\n",
    "        find objects in image\n",
    "        in:     im_th           (grayscale image)\n",
    "        out:    rects           (coordinates of detected objects)\n",
    "    '''\n",
    "    # Find contours in the image\n",
    "    im2, ctrs, hier = cv2.findContours(im_th.copy(), cv2.RETR_TREE, cv2.CHAIN_APPROX_SIMPLE)\n",
    "    # Get rectangles contains each contour\n",
    "    rects = [cv2.boundingRect(ctr) for ctr in ctrs]"
   ]
  },
  {
   "cell_type": "code",
   "execution_count": 64,
   "metadata": {},
   "outputs": [],
   "source": [
    "def get_object(im_th, rect, mach=False):\n",
    "    '''\n",
    "        rectangular region -> cut -> delete other objets from image -> resize\n",
    "        in:     im_th           (grayscale image)\n",
    "                rects           (coordinates of detected objects)\n",
    "        out:    roi             (object image)\n",
    "    '''\n",
    "    # Draw the rectangles\n",
    "    #cv2.rectangle(im, (rect[0], rect[1]), (rect[0] + rect[2], rect[1] + rect[3]), (0, 255, 0), 3)\n",
    "    # Make the rectangular region around the digit\n",
    "    leng = int(rect[3] * 1.6)\n",
    "    pt1 = int(rect[1] + rect[3] // 2 - leng // 2)\n",
    "    pt2 = int(rect[0] + rect[2] // 2 - leng // 2)\n",
    "    #roi = im_th[pt1:pt1+leng, pt2:pt2+leng]\n",
    "\n",
    "    roi_1 = im_th[rect[1]:rect[1] + rect[3], rect[0]:rect[0] + rect[2]]\n",
    "    roi_2 = im_th[pt1:pt1+leng, pt2:pt2+leng]\n",
    "\n",
    "    # check if object is bigger then a certain size\n",
    "    if ((roi_2.shape[0] >= 10) & (roi_2.shape[1] >= 10)) | (mach == True):\n",
    "\n",
    "        # make border\n",
    "        BLACK = [0, 0, 0]\n",
    "\n",
    "        # define borders\n",
    "        y_ax = int((roi_2.shape[0] - roi_1.shape[0])/2) if roi_2.shape[0] > roi_1.shape[0] else 0\n",
    "        x_ax = int((roi_2.shape[1] - roi_1.shape[1])/2) if roi_2.shape[1] > roi_1.shape[1] else 0\n",
    "\n",
    "        # make borders around element\n",
    "        roi = cv2.copyMakeBorder(roi_1, y_ax, y_ax, x_ax, x_ax, cv2.BORDER_CONSTANT, value=BLACK)\n",
    "        #print(roi.shape)\n",
    "\n",
    "        roi = cv2.resize(roi, (28, 28))#, interpolation=cv2.INTER_AREA)\n",
    "        roi = cv2.dilate(roi, (3, 3))\n",
    "    else:\n",
    "        roi = np.zeros((28,28))\n",
    "\n",
    "    return(roi)"
   ]
  },
  {
   "cell_type": "code",
   "execution_count": 57,
   "metadata": {},
   "outputs": [],
   "source": [
    "rect = find_obj_img(im_gray)"
   ]
  },
  {
   "cell_type": "code",
   "execution_count": 58,
   "metadata": {},
   "outputs": [],
   "source": [
    "rect"
   ]
  },
  {
   "cell_type": "code",
   "execution_count": 55,
   "metadata": {},
   "outputs": [],
   "source": [
    "im_gray = cv2.GaussianBlur(mask2, (5, 5), 0)"
   ]
  },
  {
   "cell_type": "code",
   "execution_count": 56,
   "metadata": {},
   "outputs": [
    {
     "data": {
      "image/png": "[encoded data removed]",
      "text/plain": [
       "<Figure size 432x288 with 1 Axes>"
      ]
     },
     "metadata": {
      "needs_background": "light"
     },
     "output_type": "display_data"
    },
    {
     "name": "stdout",
     "output_type": "stream",
     "text": [
      "(800, 800)\n"
     ]
    }
   ],
   "source": [
    "printImgGray(im_gray)\n",
    "print(im_gray.shape)"
   ]
  },
  {
   "cell_type": "code",
   "execution_count": null,
   "metadata": {},
   "outputs": [],
   "source": []
  },
  {
   "cell_type": "code",
   "execution_count": 71,
   "metadata": {},
   "outputs": [],
   "source": [
    "im2, contours, hierarchy = cv2.findContours(mask2.copy(), cv2.RETR_TREE, cv2.CHAIN_APPROX_SIMPLE)"
   ]
  },
  {
   "cell_type": "code",
   "execution_count": 72,
   "metadata": {},
   "outputs": [],
   "source": [
    "#im2, ctrs, hier = cv2.findContours(mask2.copy(), cv2.RETR_EXTERNAL, cv2.CHAIN_APPROX_SIMPLE)"
   ]
  },
  {
   "cell_type": "code",
   "execution_count": 73,
   "metadata": {
    "scrolled": true
   },
   "outputs": [
    {
     "data": {
      "text/plain": [
       "[array([[[426, 421]],\n",
       " \n",
       "        [[425, 422]],\n",
       " \n",
       "        [[425, 424]],\n",
       " \n",
       "        [[424, 425]],\n",
       " \n",
       "        [[424, 440]],\n",
       " \n",
       "        [[425, 441]],\n",
       " \n",
       "        [[425, 443]],\n",
       " \n",
       "        [[426, 444]],\n",
       " \n",
       "        [[426, 445]],\n",
       " \n",
       "        [[428, 447]],\n",
       " \n",
       "        [[430, 447]],\n",
       " \n",
       "        [[431, 448]],\n",
       " \n",
       "        [[431, 449]],\n",
       " \n",
       "        [[451, 449]],\n",
       " \n",
       "        [[451, 448]],\n",
       " \n",
       "        [[452, 447]],\n",
       " \n",
       "        [[453, 447]],\n",
       " \n",
       "        [[456, 444]],\n",
       " \n",
       "        [[456, 442]],\n",
       " \n",
       "        [[457, 441]],\n",
       " \n",
       "        [[457, 425]],\n",
       " \n",
       "        [[456, 424]],\n",
       " \n",
       "        [[456, 422]],\n",
       " \n",
       "        [[455, 421]],\n",
       " \n",
       "        [[443, 421]],\n",
       " \n",
       "        [[440, 424]],\n",
       " \n",
       "        [[438, 422]],\n",
       " \n",
       "        [[438, 421]]], dtype=int32), array([[[351, 412]],\n",
       " \n",
       "        [[351, 438]],\n",
       " \n",
       "        [[366, 438]],\n",
       " \n",
       "        [[366, 412]]], dtype=int32)]"
      ]
     },
     "execution_count": 73,
     "metadata": {},
     "output_type": "execute_result"
    }
   ],
   "source": [
    "contours"
   ]
  },
  {
   "cell_type": "code",
   "execution_count": 74,
   "metadata": {},
   "outputs": [],
   "source": [
    "rects = [cv2.boundingRect(ctr) for ctr in contours]"
   ]
  },
  {
   "cell_type": "code",
   "execution_count": 75,
   "metadata": {},
   "outputs": [
    {
     "data": {
      "text/plain": [
       "(424, 421, 34, 29)"
      ]
     },
     "execution_count": 75,
     "metadata": {},
     "output_type": "execute_result"
    }
   ],
   "source": [
    "rects[0]"
   ]
  },
  {
   "cell_type": "code",
   "execution_count": null,
   "metadata": {},
   "outputs": [],
   "source": []
  },
  {
   "cell_type": "code",
   "execution_count": 76,
   "metadata": {},
   "outputs": [
    {
     "data": {
      "image/png": "[encoded data removed]",
      "text/plain": [
       "<Figure size 432x288 with 1 Axes>"
      ]
     },
     "metadata": {
      "needs_background": "light"
     },
     "output_type": "display_data"
    },
    {
     "name": "stdout",
     "output_type": "stream",
     "text": [
      "(28, 28)\n"
     ]
    }
   ],
   "source": [
    "im_obj1 = get_object(im_gray, rects[0])\n",
    "printImgGray(im_obj1)\n",
    "print(im_obj1.shape)"
   ]
  },
  {
   "cell_type": "code",
   "execution_count": 77,
   "metadata": {},
   "outputs": [
    {
     "data": {
      "image/png": "[encoded data removed]",
      "text/plain": [
       "<Figure size 432x288 with 1 Axes>"
      ]
     },
     "metadata": {
      "needs_background": "light"
     },
     "output_type": "display_data"
    },
    {
     "name": "stdout",
     "output_type": "stream",
     "text": [
      "(28, 28)\n"
     ]
    }
   ],
   "source": [
    "im_obj2 = get_object(im_gray, rects[1])\n",
    "printImgGray(im_obj2)\n",
    "print(im_obj2.shape)"
   ]
  },
  {
   "cell_type": "code",
   "execution_count": null,
   "metadata": {},
   "outputs": [],
   "source": []
  },
  {
   "cell_type": "code",
   "execution_count": 166,
   "metadata": {},
   "outputs": [
    {
     "data": {
      "text/plain": [
       "(424, 421, 34, 29)"
      ]
     },
     "execution_count": 166,
     "metadata": {},
     "output_type": "execute_result"
    }
   ],
   "source": [
    "rects[0]"
   ]
  },
  {
   "cell_type": "code",
   "execution_count": 79,
   "metadata": {},
   "outputs": [],
   "source": [
    "maskimg = mask2.copy()"
   ]
  },
  {
   "cell_type": "code",
   "execution_count": 115,
   "metadata": {},
   "outputs": [
    {
     "data": {
      "image/png": "[encoded data removed]",
      "text/plain": [
       "<Figure size 432x288 with 1 Axes>"
      ]
     },
     "metadata": {
      "needs_background": "light"
     },
     "output_type": "display_data"
    },
    {
     "name": "stdout",
     "output_type": "stream",
     "text": [
      "(31, 36)\n"
     ]
    }
   ],
   "source": [
    "x = maskimg[421-1:421+30,424-1:424+35]\n",
    "printImgGray(x)\n",
    "print(x.shape)"
   ]
  },
  {
   "cell_type": "code",
   "execution_count": 117,
   "metadata": {},
   "outputs": [],
   "source": [
    "M = cv2.moments(x)"
   ]
  },
  {
   "cell_type": "code",
   "execution_count": 120,
   "metadata": {},
   "outputs": [
    {
     "name": "stdout",
     "output_type": "stream",
     "text": [
      "17 14\n"
     ]
    }
   ],
   "source": [
    "# calculate x,y coordinate of center\n",
    "cX = int(M[\"m10\"] / M[\"m00\"])\n",
    "cY = int(M[\"m01\"] / M[\"m00\"])\n",
    "print(cX, cY)"
   ]
  },
  {
   "cell_type": "code",
   "execution_count": 119,
   "metadata": {},
   "outputs": [
    {
     "data": {
      "text/plain": [
       "17"
      ]
     },
     "execution_count": 119,
     "metadata": {},
     "output_type": "execute_result"
    }
   ],
   "source": [
    "cX"
   ]
  },
  {
   "cell_type": "code",
   "execution_count": 140,
   "metadata": {},
   "outputs": [],
   "source": [
    "xx = x.copy()"
   ]
  },
  {
   "cell_type": "code",
   "execution_count": 141,
   "metadata": {},
   "outputs": [],
   "source": [
    "xx[14,17] = 125"
   ]
  },
  {
   "cell_type": "code",
   "execution_count": 142,
   "metadata": {},
   "outputs": [
    {
     "data": {
      "image/png": "[encoded data removed]",
      "text/plain": [
       "<Figure size 432x288 with 1 Axes>"
      ]
     },
     "metadata": {
      "needs_background": "light"
     },
     "output_type": "display_data"
    },
    {
     "name": "stdout",
     "output_type": "stream",
     "text": [
      "(31, 36)\n"
     ]
    }
   ],
   "source": [
    "printImgGray(xx)\n",
    "print(xx.shape)"
   ]
  },
  {
   "cell_type": "code",
   "execution_count": 160,
   "metadata": {},
   "outputs": [],
   "source": [
    "# print middle to image"
   ]
  },
  {
   "cell_type": "code",
   "execution_count": 170,
   "metadata": {},
   "outputs": [
    {
     "data": {
      "text/plain": [
       "True"
      ]
     },
     "execution_count": 170,
     "metadata": {},
     "output_type": "execute_result"
    }
   ],
   "source": [
    "mask3 = mask2.copy()\n",
    "cv2.circle(mask3, (424+17, 421+14), 1, (125), 1)\n",
    "cv2.circle(mask3, (359, 426), 1, (125), 1)\n",
    "cv2.imwrite('sheep1.jpg', mask3)"
   ]
  },
  {
   "cell_type": "code",
   "execution_count": null,
   "metadata": {},
   "outputs": [],
   "source": []
  },
  {
   "cell_type": "code",
   "execution_count": 16,
   "metadata": {},
   "outputs": [],
   "source": [
    "M = cv2.moments(mask2)"
   ]
  },
  {
   "cell_type": "code",
   "execution_count": 17,
   "metadata": {},
   "outputs": [
    {
     "data": {
      "text/plain": [
       "{'m00': 343740.0,\n",
       " 'm01': 148328145.0,\n",
       " 'm02': 64033876965.0,\n",
       " 'm03': 27655933117635.0,\n",
       " 'm10': 142398375.0,\n",
       " 'm11': 61505699355.0,\n",
       " 'm12': 26577533054865.0,\n",
       " 'm20': 59517237405.0,\n",
       " 'm21': 25729629296985.0,\n",
       " 'm30': 25078752236175.0,\n",
       " 'mu02': 28411790.330116272,\n",
       " 'mu03': -12433328.72265625,\n",
       " 'mu11': 59004717.29599762,\n",
       " 'mu12': -183083179.62867928,\n",
       " 'mu20': 527020372.8227005,\n",
       " 'mu21': -1696040563.2385864,\n",
       " 'mu30': -13618684651.527344,\n",
       " 'nu02': 0.00024045757103071286,\n",
       " 'nu03': -1.794784186761457e-07,\n",
       " 'nu11': 0.0004993747608122454,\n",
       " 'nu12': -2.6428545644481284e-06,\n",
       " 'nu20': 0.004460332744266337,\n",
       " 'nu21': -2.4482798218466836e-05,\n",
       " 'nu30': -0.00019658934789130498}"
      ]
     },
     "execution_count": 17,
     "metadata": {},
     "output_type": "execute_result"
    }
   ],
   "source": [
    "M"
   ]
  },
  {
   "cell_type": "code",
   "execution_count": 18,
   "metadata": {},
   "outputs": [],
   "source": [
    "cx = int(M['m10'] / M['m00'])"
   ]
  },
  {
   "cell_type": "code",
   "execution_count": 19,
   "metadata": {},
   "outputs": [
    {
     "data": {
      "text/plain": [
       "414"
      ]
     },
     "execution_count": 19,
     "metadata": {},
     "output_type": "execute_result"
    }
   ],
   "source": [
    "cx"
   ]
  },
  {
   "cell_type": "code",
   "execution_count": null,
   "metadata": {},
   "outputs": [],
   "source": []
  }
 ],
 "metadata": {
  "kernelspec": {
   "display_name": "openCV",
   "language": "python",
   "name": "opencv"
  },
  "language_info": {
   "codemirror_mode": {
    "name": "ipython",
    "version": 3
   },
   "file_extension": ".py",
   "mimetype": "text/x-python",
   "name": "python",
   "nbconvert_exporter": "python",
   "pygments_lexer": "ipython3",
   "version": "3.5.6"
  }
 },
 "nbformat": 4,
 "nbformat_minor": 2
}
