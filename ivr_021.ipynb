{
 "cells": [
  {
   "cell_type": "code",
   "execution_count": 1,
   "metadata": {},
   "outputs": [],
   "source": [
    "import os\n",
    "import cv2\n",
    "import matplotlib\n",
    "import numpy as np\n",
    "import matplotlib.pyplot as plt\n",
    "from ObjectDetection import ObjectDetection"
   ]
  },
  {
   "cell_type": "code",
   "execution_count": 2,
   "metadata": {},
   "outputs": [],
   "source": [
    "def printImgCol(img):\n",
    "    plt.imshow(cv2.cvtColor(img, cv2.COLOR_BGR2RGB))\n",
    "    plt.axis(\"off\")\n",
    "    plt.show()\n",
    "    \n",
    "def printImgGray(img):\n",
    "    plt.imshow(img, cmap='gray')\n",
    "    plt.axis(\"off\")\n",
    "    plt.show()"
   ]
  },
  {
   "cell_type": "code",
   "execution_count": 3,
   "metadata": {},
   "outputs": [],
   "source": [
    "img = cv2.imread('image_1_2.png',1)"
   ]
  },
  {
   "cell_type": "code",
   "execution_count": 4,
   "metadata": {},
   "outputs": [
    {
     "data": {
      "image/png": "[encoded data removed]",
      "text/plain": [
       "<Figure size 432x288 with 1 Axes>"
      ]
     },
     "metadata": {
      "needs_background": "light"
     },
     "output_type": "display_data"
    },
    {
     "name": "stdout",
     "output_type": "stream",
     "text": [
      "(800, 800, 3)\n"
     ]
    }
   ],
   "source": [
    "printImgCol(img)\n",
    "print(img.shape)"
   ]
  },
  {
   "cell_type": "code",
   "execution_count": 5,
   "metadata": {},
   "outputs": [],
   "source": [
    "od = ObjectDetection()"
   ]
  },
  {
   "cell_type": "code",
   "execution_count": 6,
   "metadata": {},
   "outputs": [
    {
     "data": {
      "image/png": "[encoded data removed]",
      "text/plain": [
       "<Figure size 432x288 with 1 Axes>"
      ]
     },
     "metadata": {
      "needs_background": "light"
     },
     "output_type": "display_data"
    }
   ],
   "source": [
    "img2 = od.filter_orange(img)\n",
    "printImgGray(img2)"
   ]
  },
  {
   "cell_type": "code",
   "execution_count": 14,
   "metadata": {},
   "outputs": [],
   "source": [
    "rects, cnts = od.find_boundries(img2)"
   ]
  },
  {
   "cell_type": "code",
   "execution_count": 15,
   "metadata": {},
   "outputs": [
    {
     "data": {
      "text/plain": [
       "[(424, 421, 34, 29), (351, 412, 16, 27)]"
      ]
     },
     "execution_count": 15,
     "metadata": {},
     "output_type": "execute_result"
    }
   ],
   "source": [
    "rects"
   ]
  },
  {
   "cell_type": "code",
   "execution_count": 16,
   "metadata": {},
   "outputs": [
    {
     "name": "stdout",
     "output_type": "stream",
     "text": [
      "441 435\n",
      "359 426\n"
     ]
    }
   ],
   "source": [
    "cx0, cy0 = od.get_center(img2, rects[0])\n",
    "cx1, cy1 = od.get_center(img2, rects[1])\n",
    "print(cx0, cy0)\n",
    "print(cx1, cy1)"
   ]
  },
  {
   "cell_type": "code",
   "execution_count": 10,
   "metadata": {},
   "outputs": [],
   "source": [
    "#cv2.circle(img2, (cx0, cy0), 1, (125), 1)\n",
    "#cv2.circle(img2, (cx1, cy1), 1, (125), 1)\n",
    "#cv2.imwrite('sheep1.jpg', img2)"
   ]
  },
  {
   "cell_type": "code",
   "execution_count": null,
   "metadata": {},
   "outputs": [],
   "source": []
  },
  {
   "cell_type": "code",
   "execution_count": 19,
   "metadata": {},
   "outputs": [],
   "source": [
    "obj1 = od.get_object(img2, rects[0])\n",
    "obj2 = od.get_object(img2, rects[1])"
   ]
  },
  {
   "cell_type": "code",
   "execution_count": 12,
   "metadata": {},
   "outputs": [
    {
     "data": {
      "image/png": "[encoded data removed]",
      "text/plain": [
       "<Figure size 432x288 with 1 Axes>"
      ]
     },
     "metadata": {
      "needs_background": "light"
     },
     "output_type": "display_data"
    }
   ],
   "source": [
    "printImgGray(obj1)"
   ]
  },
  {
   "cell_type": "code",
   "execution_count": 20,
   "metadata": {},
   "outputs": [
    {
     "data": {
      "image/png": "[encoded data removed]",
      "text/plain": [
       "<Figure size 432x288 with 1 Axes>"
      ]
     },
     "metadata": {
      "needs_background": "light"
     },
     "output_type": "display_data"
    }
   ],
   "source": [
    "printImgGray(obj2)"
   ]
  },
  {
   "cell_type": "code",
   "execution_count": null,
   "metadata": {},
   "outputs": [],
   "source": []
  },
  {
   "cell_type": "code",
   "execution_count": 24,
   "metadata": {},
   "outputs": [
    {
     "name": "stdout",
     "output_type": "stream",
     "text": [
      "860.5\n",
      "390.0\n"
     ]
    }
   ],
   "source": [
    "print(cv2.contourArea(cnts[0]))\n",
    "print(cv2.contourArea(cnts[1]))"
   ]
  },
  {
   "cell_type": "code",
   "execution_count": 27,
   "metadata": {},
   "outputs": [
    {
     "name": "stdout",
     "output_type": "stream",
     "text": [
      "False\n",
      "True\n"
     ]
    }
   ],
   "source": [
    "print(cv2.isContourConvex(cnts[0]))\n",
    "print(cv2.isContourConvex(cnts[1]))"
   ]
  },
  {
   "cell_type": "code",
   "execution_count": 28,
   "metadata": {},
   "outputs": [
    {
     "name": "stdout",
     "output_type": "stream",
     "text": [
      "((440.5, 435.0), (33.0, 28.0), -0.0)\n",
      "((358.5, 425.0), (26.0, 15.0), -90.0)\n"
     ]
    }
   ],
   "source": [
    "print(cv2.minAreaRect(cnts[0]))\n",
    "print(cv2.minAreaRect(cnts[1]))"
   ]
  },
  {
   "cell_type": "code",
   "execution_count": 29,
   "metadata": {},
   "outputs": [
    {
     "name": "stdout",
     "output_type": "stream",
     "text": [
      "116.87005698680878\n",
      "82.0\n"
     ]
    }
   ],
   "source": [
    "print(cv2.arcLength(cnts[0], True))\n",
    "print(cv2.arcLength(cnts[1], True))"
   ]
  },
  {
   "cell_type": "code",
   "execution_count": null,
   "metadata": {},
   "outputs": [],
   "source": [
    "ci1 = np.real(c11)\n",
    "ci2 = np.real(1000 * c21 * c12)"
   ]
  },
  {
   "cell_type": "code",
   "execution_count": 31,
   "metadata": {},
   "outputs": [],
   "source": [
    "M1 = cv2.moments(obj1)\n",
    "M2 = cv2.moments(obj2)"
   ]
  },
  {
   "cell_type": "code",
   "execution_count": 32,
   "metadata": {},
   "outputs": [
    {
     "data": {
      "text/plain": [
       "1891733.0"
      ]
     },
     "execution_count": 32,
     "metadata": {},
     "output_type": "execute_result"
    }
   ],
   "source": [
    "M1[\"m10\"]"
   ]
  },
  {
   "cell_type": "code",
   "execution_count": null,
   "metadata": {},
   "outputs": [],
   "source": []
  },
  {
   "cell_type": "code",
   "execution_count": 33,
   "metadata": {},
   "outputs": [
    {
     "data": {
      "text/plain": [
       "{'m00': 121714.0,\n",
       " 'm01': 1911633.0,\n",
       " 'm02': 34283529.0,\n",
       " 'm03': 673275759.0,\n",
       " 'm10': 1891733.0,\n",
       " 'm11': 29747465.0,\n",
       " 'm12': 534129893.0,\n",
       " 'm20': 34701171.0,\n",
       " 'm21': 543182347.0,\n",
       " 'm30': 703884131.0,\n",
       " 'mu02': 4259532.3628917,\n",
       " 'mu03': 1020713.1400290728,\n",
       " 'mu11': 36016.60467160866,\n",
       " 'mu12': 148722.17467665672,\n",
       " 'mu20': 5299017.235527553,\n",
       " 'mu21': -2951797.153125152,\n",
       " 'mu30': -176222.47926676273,\n",
       " 'nu02': 0.0002875284688850938,\n",
       " 'nu03': 1.9749330034518364e-07,\n",
       " 'nu11': 2.4312056614207846e-06,\n",
       " 'nu12': 2.8775600077578352e-08,\n",
       " 'nu20': 0.0003576961465536582,\n",
       " 'nu21': -5.711302606563871e-07,\n",
       " 'nu30': -3.409651317353707e-08}"
      ]
     },
     "execution_count": 33,
     "metadata": {},
     "output_type": "execute_result"
    }
   ],
   "source": [
    "M1"
   ]
  },
  {
   "cell_type": "code",
   "execution_count": null,
   "metadata": {},
   "outputs": [],
   "source": []
  },
  {
   "cell_type": "code",
   "execution_count": null,
   "metadata": {},
   "outputs": [],
   "source": []
  },
  {
   "cell_type": "code",
   "execution_count": 32,
   "metadata": {},
   "outputs": [
    {
     "name": "stdout",
     "output_type": "stream",
     "text": [
      "121714\n",
      "0.0\n",
      "0.0\n",
      "(2.507671646134159e-07+0j)\n",
      "2.507671646134159e-07\n"
     ]
    }
   ],
   "source": [
    "area = sum(obj1.ravel())\n",
    "print(area)\n",
    "perim = bwperim(obj1)\n",
    "print(perim)\n",
    "compactness = perim * perim / (4.0 * np.pi * area)\n",
    "    \n",
    "c11 = complexmoment(obj1, 1, 1) / np.power(area, 2)\n",
    "ci1 = np.real(c11)\n",
    "\n",
    "print(compactness)\n",
    "print(c11)\n",
    "print(ci1)"
   ]
  },
  {
   "cell_type": "code",
   "execution_count": 29,
   "metadata": {},
   "outputs": [],
   "source": [
    "def bwperim(img):\n",
    "    img = np.array(img)\n",
    "    height, width = np.shape(img)\n",
    "    perim_img = np.zeros([height, width])\n",
    "    for row in range(height):\n",
    "        for col in range(width):\n",
    "            if row == 0 or row == height - 1 or col == 0 or col == width - 1:\n",
    "                if img[row][col] == 1:\n",
    "                    perim_img[row][col] = 1\n",
    "            else:\n",
    "                if img[row][col] == 1 and (\n",
    "                        img[row][col + 1] == 0 or img[row + 1][col + 1] == 0 or img[row + 1][col] == 0 or img[row + 1][\n",
    "                    col - 1] == 0 or img[row][col - 1] == 0 or img[row - 1][col - 1] == 0 or img[row - 1][col] == 0 or\n",
    "                        img[row - 1][col + 1] == 0):\n",
    "                    perim_img[row][col] = 1\n",
    "    # Uncomment the next two lines if you want to see the perimeter\n",
    "    # cv2.imshow(\"perim image\",perim_img)\n",
    "    # cv2.waitKey(5)\n",
    "    return sum(perim_img.ravel())"
   ]
  },
  {
   "cell_type": "code",
   "execution_count": 31,
   "metadata": {},
   "outputs": [],
   "source": [
    "# Returns a given complex moment\n",
    "def complexmoment(img, u, v):\n",
    "    img = np.array(img)\n",
    "    indices = np.argwhere(img > 0)\n",
    "    centre = np.mean(indices, 0)\n",
    "\n",
    "    momlist = np.zeros(np.shape(indices)[0], dtype=complex)\n",
    "    for i in indices:\n",
    "        c1 = i[0] - centre[0] + (i[1] - centre[1]) * 1j\n",
    "        c2 = i[0] - centre[0] + (centre[1] - i[1]) * 1j\n",
    "        momlist[i] = np.power(c1, u) * np.power(c2, v)\n",
    "\n",
    "    return sum(momlist)"
   ]
  },
  {
   "cell_type": "code",
   "execution_count": null,
   "metadata": {},
   "outputs": [],
   "source": []
  }
 ],
 "metadata": {
  "kernelspec": {
   "display_name": "openCV",
   "language": "python",
   "name": "opencv"
  },
  "language_info": {
   "codemirror_mode": {
    "name": "ipython",
    "version": 3
   },
   "file_extension": ".py",
   "mimetype": "text/x-python",
   "name": "python",
   "nbconvert_exporter": "python",
   "pygments_lexer": "ipython3",
   "version": "3.5.6"
  }
 },
 "nbformat": 4,
 "nbformat_minor": 2
}
